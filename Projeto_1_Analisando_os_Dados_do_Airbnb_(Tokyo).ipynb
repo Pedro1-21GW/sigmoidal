{
  "nbformat": 4,
  "nbformat_minor": 0,
  "metadata": {
    "colab": {
      "name": "Projeto 1 - Analisando os Dados do Airbnb (Tokyo).ipynb",
      "provenance": [],
      "collapsed_sections": [],
      "include_colab_link": true
    },
    "kernelspec": {
      "name": "python3",
      "display_name": "Python 3"
    }
  },
  "cells": [
    {
      "cell_type": "markdown",
      "metadata": {
        "id": "view-in-github",
        "colab_type": "text"
      },
      "source": [
        "<a href=\"https://colab.research.google.com/github/Pedro1-21GW/sigmoidal/blob/main/Projeto_1_Analisando_os_Dados_do_Airbnb_(Tokyo).ipynb\" target=\"_parent\"><img src=\"https://colab.research.google.com/assets/colab-badge.svg\" alt=\"Open In Colab\"/></a>"
      ]
    },
    {
      "cell_type": "markdown",
      "metadata": {
        "id": "kLI0gJtzDGuQ"
      },
      "source": [
        "<img alt=\"MyLogo\" width=\"100%\" src=\"https://raw.githubusercontent.com/Pedro1-21GW/sigmoidal/main/banner_atualizado.png\">\n",
        "\n",
        "# Análise dos Dados do Airbnb - Tokyo\n",
        "\n",
        "O [Airbnb](https://www.airbnb.com.br/) já é considerado como sendo a **maior empresa hoteleira da atualidade**, sendo que ela **não possui nenhum hotel**!\n",
        "\n",
        "Conectando pessoas que querem viajar (e se hospedar) com anfitriões que querem alugar seus imóveis de maneira prática, o Airbnb fornece uma plataforma inovadora para tornar essa hospedagem alternativa.\n",
        "\n",
        "No final de 2018, a Startup fundada 10 anos atrás, já havia **hospedado mais de 300 milhões** de pessoas ao redor de todo o mundo, desafiando as redes hoteleiras tradicionais.\n",
        "\n",
        "Uma das iniciativas do Airbnb é disponibilizar dados do site, para algumas das principais cidades do mundo. Por meio do portal [Inside Airbnb](http://insideairbnb.com/get-the-data.html), é possível baixar uma grande quantidade de dados para desenvolver projetos e soluções de *Data Science*.\n",
        "\n",
        "<center><img alt=\"Analisando Airbnb\" width=\"40%\" src=\"https://www.area360.com.au/wp-content/uploads/2017/09/airbnb-logo.jpg\"></center>\n",
        "\n",
        "# Introdução\n",
        "\n",
        "Considerada a terra dos samurais, dos *animes*, dos mangás e também um dos maiores centros financeiros do mundo, **Tokyo** é uma grande metrópole com população média estimada de 13.96 milhões de habitantes. \n",
        "\n",
        "Essa métropole com alta densidade populacional (cerca de 6158 pessoas por metro quadrado) é o principal centro político, financeiro, comercial, educacional e cultural do Japão, possuindo o turismo como contribuidor significativo para economia. Atraindo desde entusiastas de gastromia à fãs da cultura pop japonesa, Tokyo constantemente aparece no top 10 em rankings das localidades mais visitadas no mundo, atualmente se firmando na nona colocação no portal [TravelMedium](https://travelmedium.com/most-visited-cities-in-the-world). \n",
        "\n",
        "\n",
        "\n",
        "\n",
        "\n",
        "\n",
        "<center><img alt=\"Tokyo\" width=\"100%\" src=\"https://raw.githubusercontent.com/Pedro1-21GW/sigmoidal/main/japanese_culture.jpg\"></center>\n",
        "\n",
        "\n",
        "\n",
        "\n",
        "\n",
        "Apesar de possuir um grande fluxo de visitantes, a metrópole japonesa não é conhecida por uma localidade com custo acessível, por isso utilizar o Airbnb no Japão pode trazer: \n",
        "\n",
        "\n",
        "*   Preços mais acessíveis do que o setor hoteleiro tradicional oferece, especialmente para **grupos** de turistas. \n",
        "*  Alugar um imóvel pode trazer uma experiência mais \"orgânica\" e local para aproveitar o melhor de Tokyo.\n",
        "* Além disso, existem opções de aluguéis que trazem mais conveniências, como uma cozinha ou ainda uma máquina de lavar, tornando a experiência ainda mais confortável. \n",
        "\n",
        "\n",
        "<center><img alt=\"Tokyo\" width=\"100%\" src=\"https://raw.githubusercontent.com/Pedro1-21GW/sigmoidal/main/tokyo-1.jpg\"></center>\n",
        "\n",
        "Caso você tenha dúvidas sobre a legalidade do Airbnb no Japão, **pode ficar tranquilo!**. Desde junho de 2018, a *startup* se adequou a uma série de normas impostas ao aluguel de imóveis privados pelo governo japonês, que integram a \"Lei Minpaku\". Para saber mais sobre as regulações impostas clique [aqui](https://notesofnomads.com/airbnb-in-japan/).  \n",
        "\n",
        " **Neste *notebook*, iremos analisar os dados referentes à cidade de Tokyo, e ver quais insights podem ser extraídos a partir de dados brutos.**\n",
        "\n"
      ]
    },
    {
      "cell_type": "markdown",
      "metadata": {
        "id": "0zxQHhIUDF_2"
      },
      "source": [
        "## Obtenção dos Dados\n"
      ]
    },
    {
      "cell_type": "code",
      "metadata": {
        "id": "Vhp2wMPgJ6zX"
      },
      "source": [
        "# importar os pacotes necessarios\n",
        "import pandas as pd\n",
        "import matplotlib.pyplot as plt\n",
        "import seaborn as sns\n",
        "\n",
        "%matplotlib inline"
      ],
      "execution_count": null,
      "outputs": []
    },
    {
      "cell_type": "code",
      "metadata": {
        "id": "tUmoAT8DLQ5T"
      },
      "source": [
        "# importar o arquivo listings.csv para um DataFrame\n",
        "\n",
        "DATAPATH = \"https://raw.githubusercontent.com/Pedro1-21GW/sigmoidal/main/listings.csv\"\n",
        "df = pd.read_csv(DATAPATH)"
      ],
      "execution_count": null,
      "outputs": []
    },
    {
      "cell_type": "markdown",
      "metadata": {
        "id": "qb5By2nIMS6m"
      },
      "source": [
        "## Análise dos Dados\n"
      ]
    },
    {
      "cell_type": "markdown",
      "metadata": {
        "id": "RYgvuebKNg8-"
      },
      "source": [
        "**Dicionário das variáveis**\n",
        "\n",
        "* `id` - número gerado para identificação da reserva\n",
        "* `name` - nome da propriedade anunciada.\n",
        "* `host_id` - número gerado para identificação do proprietário/anfitrião da propriedade.\n",
        "* `host_name` - nome do anfitrião.\n",
        "* `neighbourhood_group` - esta coluna possui apenas valores ausentes.\n",
        "* `neighbourhood` - nome do bairro.\n",
        "* `latitude` - coordenada da latitude da propriedade.\n",
        "* `longitude`- coordenada da longitude da propriedade.\n",
        "* `room_type` - tipo do quarto oferecido.\n",
        "* `price` - preço para o aluguel do imóvel.\n",
        "* `minimum_nights` - quantidade mínima de noites para reserva.\n",
        "* `number_of_reviews` - número de avalições que a propriedade possui.\n",
        "* `last_review` - última avaliação.\n",
        "* `reviews_per_month` - número de avaliações mensais do imóvel.\n",
        "* `calculated_host_listings_count` - número de imóveis que o anfritrião possui na localidade da propriedade verificada.\n",
        "* `availability_365` - disponibilidade anual do imóvel.\n",
        "* `number_of_reviews_ltm` - número de avaliações da propriedade nos últimos 12 meses.\n",
        "* `license` - Código de registro/permissão/licença para o aluguel.\n",
        "\n",
        "Antes de iniciar qualquer análise, vamos verificar a cara do nosso *dataset*, analisando as 5 primeiras entradas."
      ]
    },
    {
      "cell_type": "code",
      "metadata": {
        "id": "2iS_dae7YQtO",
        "colab": {
          "base_uri": "https://localhost:8080/",
          "height": 583
        },
        "outputId": "326eef5d-64eb-4652-9f6e-e5b49fb893dd"
      },
      "source": [
        "# mostrar as 5 primeiras entradas\n",
        "df.head()"
      ],
      "execution_count": null,
      "outputs": [
        {
          "output_type": "execute_result",
          "data": {
            "text/html": [
              "\n",
              "  <div id=\"df-a70f4b2e-43c0-4e62-ac1b-4c822969678d\">\n",
              "    <div class=\"colab-df-container\">\n",
              "      <div>\n",
              "<style scoped>\n",
              "    .dataframe tbody tr th:only-of-type {\n",
              "        vertical-align: middle;\n",
              "    }\n",
              "\n",
              "    .dataframe tbody tr th {\n",
              "        vertical-align: top;\n",
              "    }\n",
              "\n",
              "    .dataframe thead th {\n",
              "        text-align: right;\n",
              "    }\n",
              "</style>\n",
              "<table border=\"1\" class=\"dataframe\">\n",
              "  <thead>\n",
              "    <tr style=\"text-align: right;\">\n",
              "      <th></th>\n",
              "      <th>id</th>\n",
              "      <th>name</th>\n",
              "      <th>host_id</th>\n",
              "      <th>host_name</th>\n",
              "      <th>neighbourhood_group</th>\n",
              "      <th>neighbourhood</th>\n",
              "      <th>latitude</th>\n",
              "      <th>longitude</th>\n",
              "      <th>room_type</th>\n",
              "      <th>price</th>\n",
              "      <th>minimum_nights</th>\n",
              "      <th>number_of_reviews</th>\n",
              "      <th>last_review</th>\n",
              "      <th>reviews_per_month</th>\n",
              "      <th>calculated_host_listings_count</th>\n",
              "      <th>availability_365</th>\n",
              "      <th>number_of_reviews_ltm</th>\n",
              "      <th>license</th>\n",
              "    </tr>\n",
              "  </thead>\n",
              "  <tbody>\n",
              "    <tr>\n",
              "      <th>0</th>\n",
              "      <td>197677</td>\n",
              "      <td>Oshiage Holiday Apartment</td>\n",
              "      <td>964081</td>\n",
              "      <td>Yoshimi &amp; Marek</td>\n",
              "      <td>NaN</td>\n",
              "      <td>Sumida Ku</td>\n",
              "      <td>35.71707</td>\n",
              "      <td>139.82608</td>\n",
              "      <td>Entire home/apt</td>\n",
              "      <td>11000</td>\n",
              "      <td>3</td>\n",
              "      <td>165</td>\n",
              "      <td>2019-11-14</td>\n",
              "      <td>1.50</td>\n",
              "      <td>1</td>\n",
              "      <td>363</td>\n",
              "      <td>0</td>\n",
              "      <td>M130003350</td>\n",
              "    </tr>\n",
              "    <tr>\n",
              "      <th>1</th>\n",
              "      <td>776070</td>\n",
              "      <td>Kero-kero house room 1</td>\n",
              "      <td>801494</td>\n",
              "      <td>Kei</td>\n",
              "      <td>NaN</td>\n",
              "      <td>Kita Ku</td>\n",
              "      <td>35.73844</td>\n",
              "      <td>139.76917</td>\n",
              "      <td>Private room</td>\n",
              "      <td>7816</td>\n",
              "      <td>3</td>\n",
              "      <td>228</td>\n",
              "      <td>2020-01-18</td>\n",
              "      <td>2.33</td>\n",
              "      <td>1</td>\n",
              "      <td>216</td>\n",
              "      <td>0</td>\n",
              "      <td>M130000243</td>\n",
              "    </tr>\n",
              "    <tr>\n",
              "      <th>2</th>\n",
              "      <td>1033276</td>\n",
              "      <td>private room @Senju area</td>\n",
              "      <td>5686404</td>\n",
              "      <td>Yukiko</td>\n",
              "      <td>NaN</td>\n",
              "      <td>Adachi Ku</td>\n",
              "      <td>35.74437</td>\n",
              "      <td>139.79739</td>\n",
              "      <td>Private room</td>\n",
              "      <td>30000</td>\n",
              "      <td>1</td>\n",
              "      <td>72</td>\n",
              "      <td>2018-04-15</td>\n",
              "      <td>0.78</td>\n",
              "      <td>2</td>\n",
              "      <td>270</td>\n",
              "      <td>0</td>\n",
              "      <td>M130007760</td>\n",
              "    </tr>\n",
              "    <tr>\n",
              "      <th>3</th>\n",
              "      <td>1096292</td>\n",
              "      <td>Home stay with a Japanese language teacher fam...</td>\n",
              "      <td>6018145</td>\n",
              "      <td>Mari</td>\n",
              "      <td>NaN</td>\n",
              "      <td>Shinjuku Ku</td>\n",
              "      <td>35.69233</td>\n",
              "      <td>139.70851</td>\n",
              "      <td>Private room</td>\n",
              "      <td>14036</td>\n",
              "      <td>1</td>\n",
              "      <td>252</td>\n",
              "      <td>2020-02-12</td>\n",
              "      <td>2.73</td>\n",
              "      <td>3</td>\n",
              "      <td>365</td>\n",
              "      <td>1</td>\n",
              "      <td>M130002814</td>\n",
              "    </tr>\n",
              "    <tr>\n",
              "      <th>4</th>\n",
              "      <td>1196177</td>\n",
              "      <td>Stay with host Cozy private room Senju area</td>\n",
              "      <td>5686404</td>\n",
              "      <td>Yukiko</td>\n",
              "      <td>NaN</td>\n",
              "      <td>Adachi Ku</td>\n",
              "      <td>35.74475</td>\n",
              "      <td>139.79731</td>\n",
              "      <td>Private room</td>\n",
              "      <td>3000</td>\n",
              "      <td>2</td>\n",
              "      <td>95</td>\n",
              "      <td>2020-03-17</td>\n",
              "      <td>0.98</td>\n",
              "      <td>2</td>\n",
              "      <td>88</td>\n",
              "      <td>0</td>\n",
              "      <td>M130007760</td>\n",
              "    </tr>\n",
              "  </tbody>\n",
              "</table>\n",
              "</div>\n",
              "      <button class=\"colab-df-convert\" onclick=\"convertToInteractive('df-a70f4b2e-43c0-4e62-ac1b-4c822969678d')\"\n",
              "              title=\"Convert this dataframe to an interactive table.\"\n",
              "              style=\"display:none;\">\n",
              "        \n",
              "  <svg xmlns=\"http://www.w3.org/2000/svg\" height=\"24px\"viewBox=\"0 0 24 24\"\n",
              "       width=\"24px\">\n",
              "    <path d=\"M0 0h24v24H0V0z\" fill=\"none\"/>\n",
              "    <path d=\"M18.56 5.44l.94 2.06.94-2.06 2.06-.94-2.06-.94-.94-2.06-.94 2.06-2.06.94zm-11 1L8.5 8.5l.94-2.06 2.06-.94-2.06-.94L8.5 2.5l-.94 2.06-2.06.94zm10 10l.94 2.06.94-2.06 2.06-.94-2.06-.94-.94-2.06-.94 2.06-2.06.94z\"/><path d=\"M17.41 7.96l-1.37-1.37c-.4-.4-.92-.59-1.43-.59-.52 0-1.04.2-1.43.59L10.3 9.45l-7.72 7.72c-.78.78-.78 2.05 0 2.83L4 21.41c.39.39.9.59 1.41.59.51 0 1.02-.2 1.41-.59l7.78-7.78 2.81-2.81c.8-.78.8-2.07 0-2.86zM5.41 20L4 18.59l7.72-7.72 1.47 1.35L5.41 20z\"/>\n",
              "  </svg>\n",
              "      </button>\n",
              "      \n",
              "  <style>\n",
              "    .colab-df-container {\n",
              "      display:flex;\n",
              "      flex-wrap:wrap;\n",
              "      gap: 12px;\n",
              "    }\n",
              "\n",
              "    .colab-df-convert {\n",
              "      background-color: #E8F0FE;\n",
              "      border: none;\n",
              "      border-radius: 50%;\n",
              "      cursor: pointer;\n",
              "      display: none;\n",
              "      fill: #1967D2;\n",
              "      height: 32px;\n",
              "      padding: 0 0 0 0;\n",
              "      width: 32px;\n",
              "    }\n",
              "\n",
              "    .colab-df-convert:hover {\n",
              "      background-color: #E2EBFA;\n",
              "      box-shadow: 0px 1px 2px rgba(60, 64, 67, 0.3), 0px 1px 3px 1px rgba(60, 64, 67, 0.15);\n",
              "      fill: #174EA6;\n",
              "    }\n",
              "\n",
              "    [theme=dark] .colab-df-convert {\n",
              "      background-color: #3B4455;\n",
              "      fill: #D2E3FC;\n",
              "    }\n",
              "\n",
              "    [theme=dark] .colab-df-convert:hover {\n",
              "      background-color: #434B5C;\n",
              "      box-shadow: 0px 1px 3px 1px rgba(0, 0, 0, 0.15);\n",
              "      filter: drop-shadow(0px 1px 2px rgba(0, 0, 0, 0.3));\n",
              "      fill: #FFFFFF;\n",
              "    }\n",
              "  </style>\n",
              "\n",
              "      <script>\n",
              "        const buttonEl =\n",
              "          document.querySelector('#df-a70f4b2e-43c0-4e62-ac1b-4c822969678d button.colab-df-convert');\n",
              "        buttonEl.style.display =\n",
              "          google.colab.kernel.accessAllowed ? 'block' : 'none';\n",
              "\n",
              "        async function convertToInteractive(key) {\n",
              "          const element = document.querySelector('#df-a70f4b2e-43c0-4e62-ac1b-4c822969678d');\n",
              "          const dataTable =\n",
              "            await google.colab.kernel.invokeFunction('convertToInteractive',\n",
              "                                                     [key], {});\n",
              "          if (!dataTable) return;\n",
              "\n",
              "          const docLinkHtml = 'Like what you see? Visit the ' +\n",
              "            '<a target=\"_blank\" href=https://colab.research.google.com/notebooks/data_table.ipynb>data table notebook</a>'\n",
              "            + ' to learn more about interactive tables.';\n",
              "          element.innerHTML = '';\n",
              "          dataTable['output_type'] = 'display_data';\n",
              "          await google.colab.output.renderOutput(dataTable, element);\n",
              "          const docLink = document.createElement('div');\n",
              "          docLink.innerHTML = docLinkHtml;\n",
              "          element.appendChild(docLink);\n",
              "        }\n",
              "      </script>\n",
              "    </div>\n",
              "  </div>\n",
              "  "
            ],
            "text/plain": [
              "        id  ...     license\n",
              "0   197677  ...  M130003350\n",
              "1   776070  ...  M130000243\n",
              "2  1033276  ...  M130007760\n",
              "3  1096292  ...  M130002814\n",
              "4  1196177  ...  M130007760\n",
              "\n",
              "[5 rows x 18 columns]"
            ]
          },
          "metadata": {},
          "execution_count": 4
        }
      ]
    },
    {
      "cell_type": "markdown",
      "metadata": {
        "id": "6-B_qtEaYEd-"
      },
      "source": [
        "### **Quantos atributos (variáveis) e quantas entradas o nosso conjunto de dados possui? Quais os tipos das variáveis?**"
      ]
    },
    {
      "cell_type": "markdown",
      "metadata": {
        "id": "nVTDgHYTxBV0"
      },
      "source": [
        " Em seguida, vamos identificar qual o tamanho do nosso *dataset*, observando o número de variáveis, número de  entradas e até os tipos de variáveis.\n",
        "Além disso, vale mencionar que o conjunto de dados sendo utilizado é uma versão \"resumida\" do Airbnb. Na mesma página em que baixamos o arquivo `listings.csv`, estão disponíveis conjuntos mais completos, como o `listings.csv.gz`. \n",
        "Apesar disso, o *dataset* utilizado supre completamente a análise exploratória realizada aqui. "
      ]
    },
    {
      "cell_type": "code",
      "metadata": {
        "id": "TFRK0tniLV-G",
        "colab": {
          "base_uri": "https://localhost:8080/"
        },
        "outputId": "af017b69-4f5c-49db-ee75-8344b4207be9"
      },
      "source": [
        "# identificar o volume de dados do DataFrame\n",
        "\n",
        "print(f\"Entradas:\\t {df.shape[0]}\")\n",
        "print(f\"Variáveis:\\t {df.shape[1]}\\n\")\n",
        "\n",
        "# verificar as 5 primeiras entradas do dataset\n",
        "print(df.dtypes)"
      ],
      "execution_count": null,
      "outputs": [
        {
          "output_type": "stream",
          "name": "stdout",
          "text": [
            "Entradas:\t 10670\n",
            "Variáveis:\t 18\n",
            "\n",
            "id                                  int64\n",
            "name                               object\n",
            "host_id                             int64\n",
            "host_name                          object\n",
            "neighbourhood_group               float64\n",
            "neighbourhood                      object\n",
            "latitude                          float64\n",
            "longitude                         float64\n",
            "room_type                          object\n",
            "price                               int64\n",
            "minimum_nights                      int64\n",
            "number_of_reviews                   int64\n",
            "last_review                        object\n",
            "reviews_per_month                 float64\n",
            "calculated_host_listings_count      int64\n",
            "availability_365                    int64\n",
            "number_of_reviews_ltm               int64\n",
            "license                            object\n",
            "dtype: object\n"
          ]
        }
      ]
    },
    {
      "cell_type": "markdown",
      "metadata": {
        "id": "yz1urSUGW9iE"
      },
      "source": [
        "### **Qual a porcentagem de valores ausentes no *dataset*?**"
      ]
    },
    {
      "cell_type": "markdown",
      "metadata": {
        "id": "hbA5IGrA1QC-"
      },
      "source": [
        "> É **importantíssimo** tratar dos valores ausentes em nosso *dataset*, estando eles diretamente relacionados com a qualidade de nosso conjunto de dados. Vamos tentar entender logo de cara qual é a **relevância percentual desses valores ausentes** se comparados ao total de entradas.\n",
        "\n",
        "Com isso, foi possível notar que:\n",
        "\n",
        "*   A coluna `neighbourhood_group` possui 100% de entradas ausentes.\n",
        "*   As variáveis `reviews_per_month` e `last_review` possuem praticamento 20% de entradas ausentes.\n",
        "\n"
      ]
    },
    {
      "cell_type": "code",
      "metadata": {
        "id": "plk2FjbCXOqP",
        "colab": {
          "base_uri": "https://localhost:8080/"
        },
        "outputId": "cecfb72f-c4fc-4a43-f722-541f7c8fb007"
      },
      "source": [
        "# ordenar em ordem decrescente as variáveis pelos percentuais de seus valores ausentes\n",
        "(df.isnull().sum().sort_values(ascending = False))/(df.shape[0])"
      ],
      "execution_count": null,
      "outputs": [
        {
          "output_type": "execute_result",
          "data": {
            "text/plain": [
              "neighbourhood_group               1.000000\n",
              "reviews_per_month                 0.195689\n",
              "last_review                       0.195689\n",
              "license                           0.003187\n",
              "host_name                         0.001968\n",
              "longitude                         0.000000\n",
              "name                              0.000000\n",
              "host_id                           0.000000\n",
              "neighbourhood                     0.000000\n",
              "latitude                          0.000000\n",
              "room_type                         0.000000\n",
              "number_of_reviews_ltm             0.000000\n",
              "price                             0.000000\n",
              "minimum_nights                    0.000000\n",
              "number_of_reviews                 0.000000\n",
              "calculated_host_listings_count    0.000000\n",
              "availability_365                  0.000000\n",
              "id                                0.000000\n",
              "dtype: float64"
            ]
          },
          "metadata": {},
          "execution_count": 6
        }
      ]
    },
    {
      "cell_type": "markdown",
      "metadata": {
        "id": "iHXvvHIxaoNc"
      },
      "source": [
        "### **Qual o tipo de distribuição das variáveis?** \n",
        "> Uma ferramenta gráfica que ilustra bem a distribuição de um conjunto de dados é o histograma. Vamos plotar essas distribuições para cada uma de nossa variáveis numéricas.\n",
        "Caso queira saber mais sobre histogramas, [clique aqui.](https://pt.khanacademy.org/math/statistics-probability/displaying-describing-data/quantitative-data-graphs/a/histograms-review)"
      ]
    },
    {
      "cell_type": "code",
      "metadata": {
        "id": "q2wWSfeRbmBo",
        "colab": {
          "base_uri": "https://localhost:8080/",
          "height": 728
        },
        "outputId": "e57444c8-5866-492b-a063-92a18915cee3"
      },
      "source": [
        "# plotar o histograma das variáveis numéricas\n",
        "df.hist(bins = 30, figsize=(20,20));"
      ],
      "execution_count": null,
      "outputs": [
        {
          "output_type": "display_data",
          "data": {
            "image/png": "[encoded data removed]",
            "text/plain": [
              "<Figure size 1440x1440 with 12 Axes>"
            ]
          },
          "metadata": {
            "needs_background": "light"
          }
        }
      ]
    },
    {
      "cell_type": "markdown",
      "metadata": {
        "id": "5Vs28eXqum_1"
      },
      "source": [
        "###**Existem *ouliers* presentes?**\n",
        "\n",
        "<center><img alt=\"detetive\" width=\"60%\" src=\"https://raw.githubusercontent.com/Pedro1-21GW/sigmoidal/main/detetive2.png\"></center>\n",
        "\n",
        "\n",
        "\n",
        "\n",
        "\n",
        "\n",
        " A partir dos histogramas acima, podemos notar ocorrências de valores muito discrepantes em nossa distribuição, podendo assim indicar que estamos lidando com *outliers*. \n",
        "Existem formas rápidas para detectar esses dados. Como por exemplo\\:\n",
        "* Resumo estatístico pelo método `describe()`.\n",
        "* Plotar `boxplots` para as variáveis investigadas.\n"
      ]
    },
    {
      "cell_type": "markdown",
      "metadata": {
        "id": "bGkc--CI-GPY"
      },
      "source": [
        "#### Utilizando o método `describe()` "
      ]
    },
    {
      "cell_type": "code",
      "metadata": {
        "colab": {
          "base_uri": "https://localhost:8080/",
          "height": 364
        },
        "id": "wJP7ii3gzigX",
        "outputId": "d89f721b-e4ac-437c-9041-b1545821789b"
      },
      "source": [
        "# vamos mostrar o resumo estatístico de nossas variáveis numéricas\n",
        "df[['price', 'minimum_nights', 'number_of_reviews', 'reviews_per_month', \n",
        "    'calculated_host_listings_count', 'availability_365']].describe()"
      ],
      "execution_count": null,
      "outputs": [
        {
          "output_type": "execute_result",
          "data": {
            "text/html": [
              "\n",
              "  <div id=\"df-b6791cab-289f-46ae-a426-32cf250eec5f\">\n",
              "    <div class=\"colab-df-container\">\n",
              "      <div>\n",
              "<style scoped>\n",
              "    .dataframe tbody tr th:only-of-type {\n",
              "        vertical-align: middle;\n",
              "    }\n",
              "\n",
              "    .dataframe tbody tr th {\n",
              "        vertical-align: top;\n",
              "    }\n",
              "\n",
              "    .dataframe thead th {\n",
              "        text-align: right;\n",
              "    }\n",
              "</style>\n",
              "<table border=\"1\" class=\"dataframe\">\n",
              "  <thead>\n",
              "    <tr style=\"text-align: right;\">\n",
              "      <th></th>\n",
              "      <th>price</th>\n",
              "      <th>minimum_nights</th>\n",
              "      <th>number_of_reviews</th>\n",
              "      <th>reviews_per_month</th>\n",
              "      <th>calculated_host_listings_count</th>\n",
              "      <th>availability_365</th>\n",
              "    </tr>\n",
              "  </thead>\n",
              "  <tbody>\n",
              "    <tr>\n",
              "      <th>count</th>\n",
              "      <td>1.067000e+04</td>\n",
              "      <td>10670.000000</td>\n",
              "      <td>10670.000000</td>\n",
              "      <td>8582.000000</td>\n",
              "      <td>10670.000000</td>\n",
              "      <td>10670.000000</td>\n",
              "    </tr>\n",
              "    <tr>\n",
              "      <th>mean</th>\n",
              "      <td>1.281379e+04</td>\n",
              "      <td>3.594283</td>\n",
              "      <td>27.172727</td>\n",
              "      <td>1.127977</td>\n",
              "      <td>12.671415</td>\n",
              "      <td>152.890347</td>\n",
              "    </tr>\n",
              "    <tr>\n",
              "      <th>std</th>\n",
              "      <td>4.241447e+04</td>\n",
              "      <td>24.674502</td>\n",
              "      <td>44.159342</td>\n",
              "      <td>1.237049</td>\n",
              "      <td>14.362714</td>\n",
              "      <td>117.847991</td>\n",
              "    </tr>\n",
              "    <tr>\n",
              "      <th>min</th>\n",
              "      <td>0.000000e+00</td>\n",
              "      <td>1.000000</td>\n",
              "      <td>0.000000</td>\n",
              "      <td>0.020000</td>\n",
              "      <td>1.000000</td>\n",
              "      <td>0.000000</td>\n",
              "    </tr>\n",
              "    <tr>\n",
              "      <th>25%</th>\n",
              "      <td>4.257000e+03</td>\n",
              "      <td>1.000000</td>\n",
              "      <td>1.000000</td>\n",
              "      <td>0.360000</td>\n",
              "      <td>3.000000</td>\n",
              "      <td>62.000000</td>\n",
              "    </tr>\n",
              "    <tr>\n",
              "      <th>50%</th>\n",
              "      <td>7.000000e+03</td>\n",
              "      <td>1.000000</td>\n",
              "      <td>9.000000</td>\n",
              "      <td>0.830000</td>\n",
              "      <td>8.000000</td>\n",
              "      <td>129.000000</td>\n",
              "    </tr>\n",
              "    <tr>\n",
              "      <th>75%</th>\n",
              "      <td>1.237550e+04</td>\n",
              "      <td>2.000000</td>\n",
              "      <td>34.000000</td>\n",
              "      <td>1.480000</td>\n",
              "      <td>17.000000</td>\n",
              "      <td>237.000000</td>\n",
              "    </tr>\n",
              "    <tr>\n",
              "      <th>max</th>\n",
              "      <td>2.185000e+06</td>\n",
              "      <td>999.000000</td>\n",
              "      <td>489.000000</td>\n",
              "      <td>27.310000</td>\n",
              "      <td>98.000000</td>\n",
              "      <td>365.000000</td>\n",
              "    </tr>\n",
              "  </tbody>\n",
              "</table>\n",
              "</div>\n",
              "      <button class=\"colab-df-convert\" onclick=\"convertToInteractive('df-b6791cab-289f-46ae-a426-32cf250eec5f')\"\n",
              "              title=\"Convert this dataframe to an interactive table.\"\n",
              "              style=\"display:none;\">\n",
              "        \n",
              "  <svg xmlns=\"http://www.w3.org/2000/svg\" height=\"24px\"viewBox=\"0 0 24 24\"\n",
              "       width=\"24px\">\n",
              "    <path d=\"M0 0h24v24H0V0z\" fill=\"none\"/>\n",
              "    <path d=\"M18.56 5.44l.94 2.06.94-2.06 2.06-.94-2.06-.94-.94-2.06-.94 2.06-2.06.94zm-11 1L8.5 8.5l.94-2.06 2.06-.94-2.06-.94L8.5 2.5l-.94 2.06-2.06.94zm10 10l.94 2.06.94-2.06 2.06-.94-2.06-.94-.94-2.06-.94 2.06-2.06.94z\"/><path d=\"M17.41 7.96l-1.37-1.37c-.4-.4-.92-.59-1.43-.59-.52 0-1.04.2-1.43.59L10.3 9.45l-7.72 7.72c-.78.78-.78 2.05 0 2.83L4 21.41c.39.39.9.59 1.41.59.51 0 1.02-.2 1.41-.59l7.78-7.78 2.81-2.81c.8-.78.8-2.07 0-2.86zM5.41 20L4 18.59l7.72-7.72 1.47 1.35L5.41 20z\"/>\n",
              "  </svg>\n",
              "      </button>\n",
              "      \n",
              "  <style>\n",
              "    .colab-df-container {\n",
              "      display:flex;\n",
              "      flex-wrap:wrap;\n",
              "      gap: 12px;\n",
              "    }\n",
              "\n",
              "    .colab-df-convert {\n",
              "      background-color: #E8F0FE;\n",
              "      border: none;\n",
              "      border-radius: 50%;\n",
              "      cursor: pointer;\n",
              "      display: none;\n",
              "      fill: #1967D2;\n",
              "      height: 32px;\n",
              "      padding: 0 0 0 0;\n",
              "      width: 32px;\n",
              "    }\n",
              "\n",
              "    .colab-df-convert:hover {\n",
              "      background-color: #E2EBFA;\n",
              "      box-shadow: 0px 1px 2px rgba(60, 64, 67, 0.3), 0px 1px 3px 1px rgba(60, 64, 67, 0.15);\n",
              "      fill: #174EA6;\n",
              "    }\n",
              "\n",
              "    [theme=dark] .colab-df-convert {\n",
              "      background-color: #3B4455;\n",
              "      fill: #D2E3FC;\n",
              "    }\n",
              "\n",
              "    [theme=dark] .colab-df-convert:hover {\n",
              "      background-color: #434B5C;\n",
              "      box-shadow: 0px 1px 3px 1px rgba(0, 0, 0, 0.15);\n",
              "      filter: drop-shadow(0px 1px 2px rgba(0, 0, 0, 0.3));\n",
              "      fill: #FFFFFF;\n",
              "    }\n",
              "  </style>\n",
              "\n",
              "      <script>\n",
              "        const buttonEl =\n",
              "          document.querySelector('#df-b6791cab-289f-46ae-a426-32cf250eec5f button.colab-df-convert');\n",
              "        buttonEl.style.display =\n",
              "          google.colab.kernel.accessAllowed ? 'block' : 'none';\n",
              "\n",
              "        async function convertToInteractive(key) {\n",
              "          const element = document.querySelector('#df-b6791cab-289f-46ae-a426-32cf250eec5f');\n",
              "          const dataTable =\n",
              "            await google.colab.kernel.invokeFunction('convertToInteractive',\n",
              "                                                     [key], {});\n",
              "          if (!dataTable) return;\n",
              "\n",
              "          const docLinkHtml = 'Like what you see? Visit the ' +\n",
              "            '<a target=\"_blank\" href=https://colab.research.google.com/notebooks/data_table.ipynb>data table notebook</a>'\n",
              "            + ' to learn more about interactive tables.';\n",
              "          element.innerHTML = '';\n",
              "          dataTable['output_type'] = 'display_data';\n",
              "          await google.colab.output.renderOutput(dataTable, element);\n",
              "          const docLink = document.createElement('div');\n",
              "          docLink.innerHTML = docLinkHtml;\n",
              "          element.appendChild(docLink);\n",
              "        }\n",
              "      </script>\n",
              "    </div>\n",
              "  </div>\n",
              "  "
            ],
            "text/plain": [
              "              price  ...  availability_365\n",
              "count  1.067000e+04  ...      10670.000000\n",
              "mean   1.281379e+04  ...        152.890347\n",
              "std    4.241447e+04  ...        117.847991\n",
              "min    0.000000e+00  ...          0.000000\n",
              "25%    4.257000e+03  ...         62.000000\n",
              "50%    7.000000e+03  ...        129.000000\n",
              "75%    1.237550e+04  ...        237.000000\n",
              "max    2.185000e+06  ...        365.000000\n",
              "\n",
              "[8 rows x 6 columns]"
            ]
          },
          "metadata": {},
          "execution_count": 8
        }
      ]
    },
    {
      "cell_type": "markdown",
      "metadata": {
        "id": "8pOAvn9n82LY"
      },
      "source": [
        "> A partir do resumo estatístico acima, podemos confirmar a nossa suspeita sobre a presença de *outliers*, como por exemplo:\n",
        "* A variável `price` possui um valor nulo para o aluguel, o que não faz sentido do ponto de vista de negócio. Além disso, o valor máximo está muito elevado em relação à mediana, o que pode ser um indicativo que estamos lidando com um *outlier* que, se não tratado, poderá enviesar drasticamente nossa análise.\n",
        "* A variável `minimum_nights` possui valor superior aos 365 dias do ano.\n",
        "* Em `reviews_per_month` podemos ver que 75% dos valores estão abaixo de 1.48, porém seu valor máximo é de 27.31"
      ]
    },
    {
      "cell_type": "markdown",
      "source": [
        "#### Mas...como reconhecer **objetivamente** um *outlier*?\n",
        "\n",
        "É de grande importância identificar/classificar e limpar esses pontos discrepantes, visto que eles podem mostrar conclusões equivocadas e enviesadas sobre o nosso conjunto de dados. Por isso, apesar da visualização estatística dos dados com o método `describe()` e da visualização gráfica das variáveis com os histogramas, **se fazem necessárias estratégias com maior embasamento técnico e com maior objetividade**, como por exemplo: \n",
        "\n",
        "* IQR Score\n",
        "* Boxplots\n",
        "* Scatter Plots\n",
        "* Z-Score\n",
        "\n",
        "Utilizaremos aqui as duas primeiras técnicas para tratar nossos *outliers*. Clique nos hiperlinks caso queria saber mais sobre o [IQR Score](https://pt.wikipedia.org/wiki/Amplitude_interquartil) e [Boxplots](https://pt.khanacademy.org/math/statistics-probability/summarizing-quantitative-data/box-whisker-plots/a/box-plot-review)"
      ],
      "metadata": {
        "id": "dWuMIPHFHEQu"
      }
    },
    {
      "cell_type": "markdown",
      "source": [
        "### **Quais técnicas utilizaremos para  limpeza dos *outliers*?**\n",
        "\n",
        "Utilizaremos aqui as duas primeiras técnicas para tratá-los.\n"
      ],
      "metadata": {
        "id": "QIhmE-UBGjCX"
      }
    },
    {
      "cell_type": "markdown",
      "source": [
        "#### Utilizando o IQR Score\n",
        "Vamos lembrar o que é o IQR. Basicamente, IQR (do inglês, *Interquartile Range*) corresponde à distância entre o Terceiro Quartil (75%) e Primeiro Quartil (25%). Portanto, **IQR = Q3 - Q1**.\n",
        "\n",
        "<p align=\"center\"><img src=\"https://miro.medium.com/max/18000/1*2c21SkzJMf3frPXPAR_gZA.png\n",
        "\", width=\"60%\"></p>\n",
        "\n",
        "\n",
        " Além disso, os limiares seguem as expressões a seguir:\n",
        "\n",
        "* **\"Limiar Máximo\" = Q3 + 1.5 * IQR**\n",
        "* **\"Limiar Mínimo\" = Q1 - 1.5 * IQR**\n",
        "\n",
        "Logo, seguiremos a seguinte sequência de etapas: \n",
        "* Definir o Q1 e Q3 para as variáveis que serão limpas.\n",
        "* Calcular o IQR para as variáveis.\n",
        "* Definir o limite superior e inferior para cortar os outliers.\n",
        "* Remover os outliers.\n",
        "\n"
      ],
      "metadata": {
        "id": "q0KthGPMOLsI"
      }
    },
    {
      "cell_type": "markdown",
      "source": [
        "##### Identificando ouliers para variável `price`"
      ],
      "metadata": {
        "id": "MY4LQh4kQ5UB"
      }
    },
    {
      "cell_type": "code",
      "source": [
        "# identificando os outliers para a variável minimum_nights\n",
        "q1_price = df.price.quantile(.25)\n",
        "q3_price = df.price.quantile(.75)\n",
        "IQR_price = q3_price - q1_price\n",
        "print('IQR da variável price: ', IQR_price)\n",
        "\n",
        "# definindo os limites                                       \n",
        "sup_price = q3_price + 1.5 * IQR_price\n",
        "inf_price = q1_price - 1.5 * IQR_price\n",
        "\n",
        "print('Limite superior de price: ', sup_price)\n",
        "print('Limite inferior de price: ', inf_price)"
      ],
      "metadata": {
        "colab": {
          "base_uri": "https://localhost:8080/"
        },
        "id": "jmQArmdWRUFL",
        "outputId": "c5b110f6-08e0-4231-ac26-d6e17f54e0e3"
      },
      "execution_count": null,
      "outputs": [
        {
          "output_type": "stream",
          "name": "stdout",
          "text": [
            "IQR da variável price:  8118.5\n",
            "Limite superior de price:  24553.25\n",
            "Limite inferior de price:  -7920.75\n"
          ]
        }
      ]
    },
    {
      "cell_type": "code",
      "source": [
        "df.boxplot(column='price', vert=False, figsize=(15,3));"
      ],
      "metadata": {
        "colab": {
          "base_uri": "https://localhost:8080/",
          "height": 188
        },
        "id": "2T5LofyrK7kS",
        "outputId": "35e994d6-b2cc-4563-88c8-6492a6839766"
      },
      "execution_count": null,
      "outputs": [
        {
          "output_type": "display_data",
          "data": {
            "image/png": "[encoded data removed]",
            "text/plain": [
              "<Figure size 1080x216 with 1 Axes>"
            ]
          },
          "metadata": {
            "needs_background": "light"
          }
        }
      ]
    },
    {
      "cell_type": "code",
      "source": [
        "# constatando relevância percentual dos valores acima de nosso limiar superior\n",
        "num_out = df[df.price > sup_price].shape[0]\n",
        "print(f\"Temos {num_out} entradas com valores acima de {sup_price}.\")\n",
        "print(f\"Percentualmente, valendo {(num_out/df.shape[0])*100}%\")"
      ],
      "metadata": {
        "colab": {
          "base_uri": "https://localhost:8080/"
        },
        "id": "Biddje9VLQRB",
        "outputId": "2f8ccb98-c6b4-4eea-d391-cfe990ec0f7e"
      },
      "execution_count": null,
      "outputs": [
        {
          "output_type": "stream",
          "name": "stdout",
          "text": [
            "Temos 864 entradas com valores acima de 24553.25.\n",
            "Percentualmente, valendo 8.09746954076851%\n"
          ]
        }
      ]
    },
    {
      "cell_type": "markdown",
      "source": [
        "##### Identificando ouliers para variável `reviews_per_month`"
      ],
      "metadata": {
        "id": "i1_3-g4qRKYu"
      }
    },
    {
      "cell_type": "code",
      "source": [
        "# identificando os outliers para a variável minimum_nights\n",
        "q1_reviews_per_month = df.reviews_per_month.quantile(.25)\n",
        "q3_reviews_per_month = df.reviews_per_month.quantile(.75)\n",
        "IQR_reviews_per_month = q3_reviews_per_month - q1_reviews_per_month\n",
        "print('IQR da variável reviews_per_month: ', IQR_reviews_per_month)\n",
        "\n",
        "# definindo os limites                                       \n",
        "sup_reviews_per_month = q3_reviews_per_month + 1.5 * IQR_reviews_per_month\n",
        "inf_reviews_per_month = q1_reviews_per_month - 1.5 * IQR_reviews_per_month\n",
        "\n",
        "print('Limite superior de reviews_per_month: ', sup_reviews_per_month)\n",
        "print('Limite inferior de reviews_per_month: ', inf_reviews_per_month)"
      ],
      "metadata": {
        "colab": {
          "base_uri": "https://localhost:8080/"
        },
        "id": "c5OTZEWePqA_",
        "outputId": "aef255bd-40be-4946-db25-31216fa9e2ed"
      },
      "execution_count": null,
      "outputs": [
        {
          "output_type": "stream",
          "name": "stdout",
          "text": [
            "IQR da variável reviews_per_month:  1.12\n",
            "Limite superior de reviews_per_month:  3.16\n",
            "Limite inferior de reviews_per_month:  -1.3200000000000003\n"
          ]
        }
      ]
    },
    {
      "cell_type": "code",
      "source": [
        "df.boxplot(column='reviews_per_month',vert=False, figsize=(15,3));"
      ],
      "metadata": {
        "colab": {
          "base_uri": "https://localhost:8080/",
          "height": 165
        },
        "id": "-5sS2P8UUw_8",
        "outputId": "24433143-efa8-4b44-f603-588d1ac1a318"
      },
      "execution_count": null,
      "outputs": [
        {
          "output_type": "display_data",
          "data": {
            "image/png": "[encoded data removed]",
            "text/plain": [
              "<Figure size 1080x216 with 1 Axes>"
            ]
          },
          "metadata": {
            "needs_background": "light"
          }
        }
      ]
    },
    {
      "cell_type": "code",
      "metadata": {
        "colab": {
          "base_uri": "https://localhost:8080/"
        },
        "id": "E4-wUXLICQqR",
        "outputId": "b2fa5c04-d42f-4319-e2aa-d9a1377afc83"
      },
      "source": [
        "# constatando relevância percentual dos valores acima de nosso limiar superior\n",
        "num_out = df[df.reviews_per_month > sup_reviews_per_month].shape[0]\n",
        "print(f\"Temos {num_out} entradas com valores acima de {sup_reviews_per_month}.\")\n",
        "print(f\"Percentualmente, valendo {(num_out/df.shape[0])*100}%\")"
      ],
      "execution_count": null,
      "outputs": [
        {
          "output_type": "stream",
          "name": "stdout",
          "text": [
            "Temos 441 entradas com valores acima de 3.16.\n",
            "Percentualmente, valendo 4.133083411433927%\n"
          ]
        }
      ]
    },
    {
      "cell_type": "markdown",
      "source": [
        "##### Identificando ouliers para variável `minimum_nights`"
      ],
      "metadata": {
        "id": "EyUqY-PrRKN5"
      }
    },
    {
      "cell_type": "code",
      "source": [
        "# identificando os outliers para a variável minimum_nights\n",
        "q1_minimum_nights = df.minimum_nights.quantile(.25)\n",
        "q3_minimum_nights = df.minimum_nights.quantile(.75)\n",
        "IQR_minimum_nights = q3_minimum_nights - q1_minimum_nights\n",
        "print('IQR da variável minimum_nights: ', IQR_minimum_nights)\n",
        "\n",
        "# definindo os limites                                       \n",
        "sup_minimum_nights = q3_minimum_nights + 1.5 * IQR_minimum_nights\n",
        "inf_minimum_nights = q1_minimum_nights - 1.5 * IQR_minimum_nights\n",
        "\n",
        "print('Limite superior de minimum_nights: ', sup_minimum_nights)\n",
        "print('Limite inferior de minimum_nights: ', inf_minimum_nights)"
      ],
      "metadata": {
        "colab": {
          "base_uri": "https://localhost:8080/"
        },
        "id": "ZGQY12mbRVAz",
        "outputId": "6bf2b6f8-a790-4d46-8dbc-f4fff89edd57"
      },
      "execution_count": null,
      "outputs": [
        {
          "output_type": "stream",
          "name": "stdout",
          "text": [
            "IQR da variável minimum_nights:  1.0\n",
            "Limite superior de minimum_nights:  3.5\n",
            "Limite inferior de minimum_nights:  -0.5\n"
          ]
        }
      ]
    },
    {
      "cell_type": "code",
      "metadata": {
        "colab": {
          "base_uri": "https://localhost:8080/",
          "height": 168
        },
        "id": "-yB1O952-RuA",
        "outputId": "22c82900-14e0-4f3d-d50a-fe93281e0d8a"
      },
      "source": [
        "df.boxplot(column='minimum_nights',vert=False, figsize=(15,3));"
      ],
      "execution_count": null,
      "outputs": [
        {
          "output_type": "display_data",
          "data": {
            "image/png": "[encoded data removed]",
            "text/plain": [
              "<Figure size 1080x216 with 1 Axes>"
            ]
          },
          "metadata": {
            "needs_background": "light"
          }
        }
      ]
    },
    {
      "cell_type": "code",
      "metadata": {
        "colab": {
          "base_uri": "https://localhost:8080/"
        },
        "id": "KoOz86JlAYrZ",
        "outputId": "2b64cafa-7359-4635-8d19-f37948a212f4"
      },
      "source": [
        "# constatando relevância percentual dos valores acima de nosso limiar superior\n",
        "num_out = df[df.minimum_nights > sup_minimum_nights].shape[0]\n",
        "print(f\"Temos {num_out} entradas com valores acima de {sup_minimum_nights}.\")\n",
        "print(f\"Percentualmente, valendo {(num_out/df.shape[0])*100}%\")"
      ],
      "execution_count": null,
      "outputs": [
        {
          "output_type": "stream",
          "name": "stdout",
          "text": [
            "Temos 764 entradas com valores acima de 3.5.\n",
            "Percentualmente, valendo 7.160262417994377%\n"
          ]
        }
      ]
    },
    {
      "cell_type": "markdown",
      "source": [
        "### **Limpeza dos *outliers***"
      ],
      "metadata": {
        "id": "7aNO6DMAXJ40"
      }
    },
    {
      "cell_type": "markdown",
      "source": [
        "Temos aqui uma situação de *trade off* entre **quantidade** e **qualidade** dos dados, na medida em que apesar de possuir um menor número de entradas, o nosso *dataset* filtrado possui um conjunto de dados de melhor qualidade e com uma quantidade significativa de entradas, possibilitando assim uma melhor análise.\n",
        "\n",
        "<center><img alt=\"trade-off\" width=\"60%\" src=\"https://raw.githubusercontent.com/Pedro1-21GW/sigmoidal/main/trade-off.png\"></center>\n",
        "\n",
        "Para realizar tal limpeza usaremos o método `drop()` (apesar de existirem inúmeras [outras opções](https://stackoverflow.com/questions/13411544/delete-a-column-from-a-pandas-dataframe) com o pacote Pandas).\n",
        "Além disso, podermos também retirar a coluna `neighbourhood_group`, que está recheada de valores ausentes.\n"
      ],
      "metadata": {
        "id": "O3qV7SXDHByJ"
      }
    },
    {
      "cell_type": "code",
      "metadata": {
        "colab": {
          "base_uri": "https://localhost:8080/"
        },
        "id": "9ZLCdrISE1CK",
        "outputId": "103bf828-6f73-406c-d77c-2c21d25aaa06"
      },
      "source": [
        "# remover outliers do nosso DataFrame e alocar dados filtrados em outro DataFrame\n",
        "df_clean = df.copy()\n",
        "\n",
        "df_clean.drop(df_clean[df_clean.price > sup_price].index, axis = 0, inplace = True)\n",
        "df_clean.drop(df_clean[df_clean.minimum_nights > sup_minimum_nights].index, axis = 0, inplace = True)\n",
        "df_clean.drop(df_clean[df_clean.reviews_per_month > sup_reviews_per_month].index, axis = 0, inplace = True)\n",
        "\n",
        "# remover a coluna \"neighbourhood_group\", pois está vazia\n",
        "df_clean.drop('neighbourhood_group', axis = 1, inplace = True)\n",
        "\n",
        "# vamos conferir a nova dimensionalidade do nosso DataFrame\n",
        "print(f\" O DataFrame antigo possui dimensões: {df.shape}\")\n",
        "print(f\" O nosso DataFrame filtrado possui dimensões: {df_clean.shape}\")\n"
      ],
      "execution_count": null,
      "outputs": [
        {
          "output_type": "stream",
          "name": "stdout",
          "text": [
            " O DataFrame antigo possui dimensões: (10670, 18)\n",
            " O nosso DataFrame filtrado possui dimensões: (8696, 17)\n"
          ]
        }
      ]
    },
    {
      "cell_type": "markdown",
      "metadata": {
        "id": "KN08ujrSDJeR"
      },
      "source": [
        "#### Histogramas sem *outliers* \n",
        "\n"
      ]
    },
    {
      "cell_type": "code",
      "metadata": {
        "colab": {
          "base_uri": "https://localhost:8080/",
          "height": 504
        },
        "id": "IC0yo9FLJgyj",
        "outputId": "88cf7af4-0bbb-47a6-b8c0-5545f3051dd4"
      },
      "source": [
        "# vamos plotar histogrmas sem outliers\n",
        "df_clean.hist(bins=35, figsize=(15,10));"
      ],
      "execution_count": null,
      "outputs": [
        {
          "output_type": "display_data",
          "data": {
            "image/png": "[encoded data removed]",
            "text/plain": [
              "<Figure size 1080x720 with 12 Axes>"
            ]
          },
          "metadata": {
            "needs_background": "light"
          }
        }
      ]
    },
    {
      "cell_type": "markdown",
      "metadata": {
        "id": "7x4aw1j5wNmn"
      },
      "source": [
        "### **Qual a média dos preços de aluguel?**\n",
        "Agora vamos falar de algo bem relevante: **preços**. Mais precisamente, vamos ver qual é a media do preço de aluguel de imóveis em Tokyo.\n",
        "\n",
        "\n",
        "*   A média da coluna `price` aponta um valor médio de **U$ 8033.5** por aluguel! \n",
        "\n",
        "<center><img alt=\"Criança_Surpresa\" width=\"40%\" src=\"https://raw.githubusercontent.com/Pedro1-21GW/sigmoidal/main/crianca_surpresa.jpg\"></center>\n",
        "\n",
        "\n"
      ]
    },
    {
      "cell_type": "code",
      "metadata": {
        "id": "ff-8gUahLk-C",
        "colab": {
          "base_uri": "https://localhost:8080/"
        },
        "outputId": "b7443a65-004e-4954-e26e-7b1e303d4c62"
      },
      "source": [
        "# ver a média da coluna price\n",
        "df_clean.price.mean()"
      ],
      "execution_count": null,
      "outputs": [
        {
          "output_type": "execute_result",
          "data": {
            "text/plain": [
              "8033.509659613615"
            ]
          },
          "metadata": {},
          "execution_count": 20
        }
      ]
    },
    {
      "cell_type": "markdown",
      "metadata": {
        "id": "IXn2oIo5qx-w"
      },
      "source": [
        "###**Qual a correlação existente entre as variáveis**\n",
        "> **Correlação** pode ser entendida como uma métrica para a relação entre coisas. Nessa análise, vamos verificar as relações entre duas variáveis.\n",
        "\n",
        "> Para quantificar essa correlação, podemos usar o coeficiente de correlação, que é um valor limitado entre 0 (indicando nenhuma correlação) e 1 (indicando máxima correlação).\n",
        "\n",
        "> Para melhorar a visualização sobre esse coeficiente, usarei das seguintes ferramentas\\: \n",
        "\n",
        "*   Criar uma matriz de correlação\n",
        "*   Gerar um *heatmap* a partir dessa matriz, usando a biblioteca `seaborn`.\n"
      ]
    },
    {
      "cell_type": "code",
      "metadata": {
        "id": "x2ayzBajqxyd",
        "colab": {
          "base_uri": "https://localhost:8080/",
          "height": 302
        },
        "outputId": "a5ffd1ac-8afd-433b-b9a8-d88eacf0ffad"
      },
      "source": [
        "# criar uma matriz de correlação\n",
        "correlation = df_clean[['price','minimum_nights','number_of_reviews', 'reviews_per_month', 'availability_365','number_of_reviews_ltm']].corr()\n",
        "\n",
        "# mostrar a matriz de correlação\n",
        "correlation"
      ],
      "execution_count": null,
      "outputs": [
        {
          "output_type": "execute_result",
          "data": {
            "text/html": [
              "\n",
              "  <div id=\"df-a9615e43-914d-42f7-8604-629befd6d75d\">\n",
              "    <div class=\"colab-df-container\">\n",
              "      <div>\n",
              "<style scoped>\n",
              "    .dataframe tbody tr th:only-of-type {\n",
              "        vertical-align: middle;\n",
              "    }\n",
              "\n",
              "    .dataframe tbody tr th {\n",
              "        vertical-align: top;\n",
              "    }\n",
              "\n",
              "    .dataframe thead th {\n",
              "        text-align: right;\n",
              "    }\n",
              "</style>\n",
              "<table border=\"1\" class=\"dataframe\">\n",
              "  <thead>\n",
              "    <tr style=\"text-align: right;\">\n",
              "      <th></th>\n",
              "      <th>price</th>\n",
              "      <th>minimum_nights</th>\n",
              "      <th>number_of_reviews</th>\n",
              "      <th>reviews_per_month</th>\n",
              "      <th>availability_365</th>\n",
              "      <th>number_of_reviews_ltm</th>\n",
              "    </tr>\n",
              "  </thead>\n",
              "  <tbody>\n",
              "    <tr>\n",
              "      <th>price</th>\n",
              "      <td>1.000000</td>\n",
              "      <td>-0.038810</td>\n",
              "      <td>0.000659</td>\n",
              "      <td>0.001667</td>\n",
              "      <td>-0.048968</td>\n",
              "      <td>-0.067985</td>\n",
              "    </tr>\n",
              "    <tr>\n",
              "      <th>minimum_nights</th>\n",
              "      <td>-0.038810</td>\n",
              "      <td>1.000000</td>\n",
              "      <td>0.119937</td>\n",
              "      <td>0.034024</td>\n",
              "      <td>0.060010</td>\n",
              "      <td>-0.012315</td>\n",
              "    </tr>\n",
              "    <tr>\n",
              "      <th>number_of_reviews</th>\n",
              "      <td>0.000659</td>\n",
              "      <td>0.119937</td>\n",
              "      <td>1.000000</td>\n",
              "      <td>0.748383</td>\n",
              "      <td>0.028652</td>\n",
              "      <td>0.304067</td>\n",
              "    </tr>\n",
              "    <tr>\n",
              "      <th>reviews_per_month</th>\n",
              "      <td>0.001667</td>\n",
              "      <td>0.034024</td>\n",
              "      <td>0.748383</td>\n",
              "      <td>1.000000</td>\n",
              "      <td>-0.001650</td>\n",
              "      <td>0.561551</td>\n",
              "    </tr>\n",
              "    <tr>\n",
              "      <th>availability_365</th>\n",
              "      <td>-0.048968</td>\n",
              "      <td>0.060010</td>\n",
              "      <td>0.028652</td>\n",
              "      <td>-0.001650</td>\n",
              "      <td>1.000000</td>\n",
              "      <td>-0.006533</td>\n",
              "    </tr>\n",
              "    <tr>\n",
              "      <th>number_of_reviews_ltm</th>\n",
              "      <td>-0.067985</td>\n",
              "      <td>-0.012315</td>\n",
              "      <td>0.304067</td>\n",
              "      <td>0.561551</td>\n",
              "      <td>-0.006533</td>\n",
              "      <td>1.000000</td>\n",
              "    </tr>\n",
              "  </tbody>\n",
              "</table>\n",
              "</div>\n",
              "      <button class=\"colab-df-convert\" onclick=\"convertToInteractive('df-a9615e43-914d-42f7-8604-629befd6d75d')\"\n",
              "              title=\"Convert this dataframe to an interactive table.\"\n",
              "              style=\"display:none;\">\n",
              "        \n",
              "  <svg xmlns=\"http://www.w3.org/2000/svg\" height=\"24px\"viewBox=\"0 0 24 24\"\n",
              "       width=\"24px\">\n",
              "    <path d=\"M0 0h24v24H0V0z\" fill=\"none\"/>\n",
              "    <path d=\"M18.56 5.44l.94 2.06.94-2.06 2.06-.94-2.06-.94-.94-2.06-.94 2.06-2.06.94zm-11 1L8.5 8.5l.94-2.06 2.06-.94-2.06-.94L8.5 2.5l-.94 2.06-2.06.94zm10 10l.94 2.06.94-2.06 2.06-.94-2.06-.94-.94-2.06-.94 2.06-2.06.94z\"/><path d=\"M17.41 7.96l-1.37-1.37c-.4-.4-.92-.59-1.43-.59-.52 0-1.04.2-1.43.59L10.3 9.45l-7.72 7.72c-.78.78-.78 2.05 0 2.83L4 21.41c.39.39.9.59 1.41.59.51 0 1.02-.2 1.41-.59l7.78-7.78 2.81-2.81c.8-.78.8-2.07 0-2.86zM5.41 20L4 18.59l7.72-7.72 1.47 1.35L5.41 20z\"/>\n",
              "  </svg>\n",
              "      </button>\n",
              "      \n",
              "  <style>\n",
              "    .colab-df-container {\n",
              "      display:flex;\n",
              "      flex-wrap:wrap;\n",
              "      gap: 12px;\n",
              "    }\n",
              "\n",
              "    .colab-df-convert {\n",
              "      background-color: #E8F0FE;\n",
              "      border: none;\n",
              "      border-radius: 50%;\n",
              "      cursor: pointer;\n",
              "      display: none;\n",
              "      fill: #1967D2;\n",
              "      height: 32px;\n",
              "      padding: 0 0 0 0;\n",
              "      width: 32px;\n",
              "    }\n",
              "\n",
              "    .colab-df-convert:hover {\n",
              "      background-color: #E2EBFA;\n",
              "      box-shadow: 0px 1px 2px rgba(60, 64, 67, 0.3), 0px 1px 3px 1px rgba(60, 64, 67, 0.15);\n",
              "      fill: #174EA6;\n",
              "    }\n",
              "\n",
              "    [theme=dark] .colab-df-convert {\n",
              "      background-color: #3B4455;\n",
              "      fill: #D2E3FC;\n",
              "    }\n",
              "\n",
              "    [theme=dark] .colab-df-convert:hover {\n",
              "      background-color: #434B5C;\n",
              "      box-shadow: 0px 1px 3px 1px rgba(0, 0, 0, 0.15);\n",
              "      filter: drop-shadow(0px 1px 2px rgba(0, 0, 0, 0.3));\n",
              "      fill: #FFFFFF;\n",
              "    }\n",
              "  </style>\n",
              "\n",
              "      <script>\n",
              "        const buttonEl =\n",
              "          document.querySelector('#df-a9615e43-914d-42f7-8604-629befd6d75d button.colab-df-convert');\n",
              "        buttonEl.style.display =\n",
              "          google.colab.kernel.accessAllowed ? 'block' : 'none';\n",
              "\n",
              "        async function convertToInteractive(key) {\n",
              "          const element = document.querySelector('#df-a9615e43-914d-42f7-8604-629befd6d75d');\n",
              "          const dataTable =\n",
              "            await google.colab.kernel.invokeFunction('convertToInteractive',\n",
              "                                                     [key], {});\n",
              "          if (!dataTable) return;\n",
              "\n",
              "          const docLinkHtml = 'Like what you see? Visit the ' +\n",
              "            '<a target=\"_blank\" href=https://colab.research.google.com/notebooks/data_table.ipynb>data table notebook</a>'\n",
              "            + ' to learn more about interactive tables.';\n",
              "          element.innerHTML = '';\n",
              "          dataTable['output_type'] = 'display_data';\n",
              "          await google.colab.output.renderOutput(dataTable, element);\n",
              "          const docLink = document.createElement('div');\n",
              "          docLink.innerHTML = docLinkHtml;\n",
              "          element.appendChild(docLink);\n",
              "        }\n",
              "      </script>\n",
              "    </div>\n",
              "  </div>\n",
              "  "
            ],
            "text/plain": [
              "                          price  ...  number_of_reviews_ltm\n",
              "price                  1.000000  ...              -0.067985\n",
              "minimum_nights        -0.038810  ...              -0.012315\n",
              "number_of_reviews      0.000659  ...               0.304067\n",
              "reviews_per_month      0.001667  ...               0.561551\n",
              "availability_365      -0.048968  ...              -0.006533\n",
              "number_of_reviews_ltm -0.067985  ...               1.000000\n",
              "\n",
              "[6 rows x 6 columns]"
            ]
          },
          "metadata": {},
          "execution_count": 21
        }
      ]
    },
    {
      "cell_type": "code",
      "metadata": {
        "id": "91UujDr6ueqE",
        "colab": {
          "base_uri": "https://localhost:8080/",
          "height": 377
        },
        "outputId": "e40382c1-82ab-47bb-fcee-4f783a1ceb8d"
      },
      "source": [
        "# plotar um heatmap a partir das correlações\n",
        "sns.heatmap(correlation, cmap='RdBu',fmt='.1f', annot=True);"
      ],
      "execution_count": null,
      "outputs": [
        {
          "output_type": "display_data",
          "data": {
            "image/png": "[encoded data removed]",
            "text/plain": [
              "<Figure size 432x288 with 2 Axes>"
            ]
          },
          "metadata": {
            "needs_background": "light"
          }
        }
      ]
    },
    {
      "cell_type": "markdown",
      "source": [
        " Através da matriz acima, podemos notar as seguintes correlações entre variáveis do nosso *dataset* (lembre-se que 1 e 0 são nossos valores máximos e mínimos): \n",
        "\n",
        "*   `number_of_reviews_ltm` e `number_of_reviews`, com 0.3\n",
        "*   `number_of_reviews_ltm` e `reviews_per_month`, com 0.6\n",
        "*   `reviews_per_month` e `number_of_reviews`, com 0.7\n",
        "\n",
        " As variáveis apresentadas contabilizam o número de revisões/avaliações sobre imóveis em diferentes espaços de tempo, o que torna a correlação entre as variáveis plausível, na medida em que são similares em certa instância. \n"
      ],
      "metadata": {
        "id": "WYxOl6urbE9g"
      }
    },
    {
      "cell_type": "markdown",
      "metadata": {
        "id": "7b6RMWpuHKN-"
      },
      "source": [
        "### **Qual o tipo de imóvel mais alugado no Airbnb?**"
      ]
    },
    {
      "cell_type": "markdown",
      "source": [
        "A coluna `room_type()` em nosso *dataset* representa o tipo de imóvel alugado. Vamos investigar quais os valores e as relevâncias percentuais de cada um desses tipos!"
      ],
      "metadata": {
        "id": "xV6PM4DPWKvr"
      }
    },
    {
      "cell_type": "code",
      "metadata": {
        "id": "ueLPNWvPHgfB",
        "colab": {
          "base_uri": "https://localhost:8080/"
        },
        "outputId": "d597c75d-517b-4a57-8a72-837148c1a533"
      },
      "source": [
        "# mostrar a quantidade de cada tipo de imóvel disponível\n",
        "df.room_type.value_counts()"
      ],
      "execution_count": null,
      "outputs": [
        {
          "output_type": "execute_result",
          "data": {
            "text/plain": [
              "Entire home/apt    7253\n",
              "Private room       2616\n",
              "Shared room         404\n",
              "Hotel room          397\n",
              "Name: room_type, dtype: int64"
            ]
          },
          "metadata": {},
          "execution_count": 38
        }
      ]
    },
    {
      "cell_type": "code",
      "metadata": {
        "id": "EvwoO-XAHhIm",
        "colab": {
          "base_uri": "https://localhost:8080/"
        },
        "outputId": "748dd6d1-369e-49a7-de1e-270130c764fe"
      },
      "source": [
        "# mostrar a porcentagem de cada tipo de imóvel disponível\n",
        "(df.room_type.value_counts()/df.shape[0]).head(5)"
      ],
      "execution_count": null,
      "outputs": [
        {
          "output_type": "execute_result",
          "data": {
            "text/plain": [
              "Entire home/apt    0.679756\n",
              "Private room       0.245173\n",
              "Shared room        0.037863\n",
              "Hotel room         0.037207\n",
              "Name: room_type, dtype: float64"
            ]
          },
          "metadata": {},
          "execution_count": 37
        }
      ]
    },
    {
      "cell_type": "markdown",
      "source": [
        " Em primeiro lugar, com esmagadores **67.97%**, os **apartamentos/casas são o tipo de imóvel mais alugado em Tokyo**. Em segundo lugar, temos os quartos privados, com **24.52%**, e por fim em terceiro lugar temos os quartos compartilhados, que superaram por pouco os quartos de hotel, com **3.78%** e **3.72%**, respectivamente. \n",
        "\n",
        "<center><img alt=\"Podio\" width=\"50%\" src=\"https://raw.githubusercontent.com/Pedro1-21GW/sigmoidal/main/podio_novo.png\"></center>\n",
        "\n",
        "\n"
      ],
      "metadata": {
        "id": "MNw9SxMCZZ72"
      }
    },
    {
      "cell_type": "markdown",
      "source": [
        "#### **Qual a média de preço por tipo de imóvel alugado?**"
      ],
      "metadata": {
        "id": "n-txEatDxiJV"
      }
    },
    {
      "cell_type": "markdown",
      "source": [
        "Uma forma de agrupar entradas do mesma coluna é utilizando o método `groupby()`. Com isso, podemos  aqui comparar os **preços médios dos imóveis por tipo de imóvel**."
      ],
      "metadata": {
        "id": "Tl1EbNxPx1RI"
      }
    },
    {
      "cell_type": "code",
      "source": [
        "df_clean.groupby(['room_type']).price.mean().sort_values(ascending = False).head(4)"
      ],
      "metadata": {
        "colab": {
          "base_uri": "https://localhost:8080/"
        },
        "id": "FID3rkXmxGOR",
        "outputId": "79751111-243e-4cad-dfe8-dbe293f04d01"
      },
      "execution_count": null,
      "outputs": [
        {
          "output_type": "execute_result",
          "data": {
            "text/plain": [
              "room_type\n",
              "Hotel room         10334.791209\n",
              "Entire home/apt     8295.320368\n",
              "Private room        7668.271186\n",
              "Shared room         3421.516616\n",
              "Name: price, dtype: float64"
            ]
          },
          "metadata": {},
          "execution_count": 25
        }
      ]
    },
    {
      "cell_type": "markdown",
      "source": [
        "Como esperado, o valor de aluguel da moradia compartilhada é consideravelmente menor do que os outros tipo de imóvel (casa, apartamento, quarto privado), atingindo uma média de U$ 3421.52."
      ],
      "metadata": {
        "id": "dwTXCc1MyVoH"
      }
    },
    {
      "cell_type": "markdown",
      "metadata": {
        "id": "MFa5NbnLJMcd"
      },
      "source": [
        "### **Qual a localidade mais cara do dataset?**\n",
        "\n"
      ]
    },
    {
      "cell_type": "markdown",
      "source": [
        "Novamente, utilizaremos aqui o método `groupby()`, porém dessa vez iremos comparar e visualizar graficamente os **preços médios dos imóveis por bairro.**"
      ],
      "metadata": {
        "id": "ei4yoD_Qw1Tt"
      }
    },
    {
      "cell_type": "code",
      "metadata": {
        "id": "MD_xa143JZpi"
      },
      "source": [
        "# ver preços por bairros, na média\n",
        "agrupados_por_preco = df_clean.groupby(['neighbourhood']).price"
      ],
      "execution_count": null,
      "outputs": []
    },
    {
      "cell_type": "code",
      "source": [
        "media_bairros_caros = agrupados_por_preco.mean().sort_values(ascending=False).head(10)\n",
        "print(media_bairros_caros)"
      ],
      "metadata": {
        "colab": {
          "base_uri": "https://localhost:8080/"
        },
        "id": "dGjYu5t9ygRN",
        "outputId": "2a65689a-83aa-41fc-bc3b-a06882881a91"
      },
      "execution_count": null,
      "outputs": [
        {
          "output_type": "stream",
          "name": "stdout",
          "text": [
            "neighbourhood\n",
            "Musashino Shi    11643.000000\n",
            "Mitaka Shi       11427.200000\n",
            "Meguro Ku         9619.675676\n",
            "Shibuya Ku        9590.393593\n",
            "Kodaira Shi       9494.333333\n",
            "Taito Ku          9437.533944\n",
            "Minato Ku         9327.864078\n",
            "Chiyoda Ku        9312.557971\n",
            "Edogawa Ku        9093.871212\n",
            "Koganei Shi       8909.000000\n",
            "Name: price, dtype: float64\n"
          ]
        }
      ]
    },
    {
      "cell_type": "code",
      "source": [
        "media_bairros_caros.plot(kind = 'barh', figsize=(15,8));"
      ],
      "metadata": {
        "colab": {
          "base_uri": "https://localhost:8080/",
          "height": 379
        },
        "id": "r3ksTcpKE7H2",
        "outputId": "52efb962-92a4-4b2a-d0d7-faa309634508"
      },
      "execution_count": null,
      "outputs": [
        {
          "output_type": "display_data",
          "data": {
            "image/png": "[encoded data removed]",
            "text/plain": [
              "<Figure size 1080x576 with 1 Axes>"
            ]
          },
          "metadata": {
            "needs_background": "light"
          }
        }
      ]
    },
    {
      "cell_type": "markdown",
      "source": [
        "> De acordo com nosso *dataset*, o bairro mais caro de Tokyo seria Musashino Shi, com preço médio de aluguel de $11643, valor que supera em aproximadamente 50% o valor médio de aluguel calculado previamente.\n",
        "\n",
        "> Contudo, é **importante nos certificar de que nossa análise de preço médio não está enviesada por imóveis caros com pouca representatividade numérica** , por isso vamos verificar o número de imóveis localizados nos bairros mais caros de Tokyo, segundo o *dataset* utilizado.\n",
        "\n"
      ],
      "metadata": {
        "id": "o2D0T0SZxPbX"
      }
    },
    {
      "cell_type": "code",
      "source": [
        "print(df_clean[df_clean.neighbourhood == 'Musashino Shi'].shape[0])\n",
        "print(df_clean[df_clean.neighbourhood == 'Mitaka Shi'].shape[0])\n",
        "print(df_clean[df_clean.neighbourhood == 'Meguro Ku'].shape[0])\n",
        "print(df_clean[df_clean.neighbourhood == 'Shibuya Ku'].shape[0])\n",
        "print(df_clean[df_clean.neighbourhood == 'Aoyama'].shape[0])\n",
        "\n"
      ],
      "metadata": {
        "colab": {
          "base_uri": "https://localhost:8080/"
        },
        "id": "IVJ4_Xq7AAR4",
        "outputId": "7bb636b4-cf78-4d2c-f026-581d67ea95cf"
      },
      "execution_count": null,
      "outputs": [
        {
          "output_type": "stream",
          "name": "stdout",
          "text": [
            "4\n",
            "5\n",
            "37\n",
            "437\n",
            "0\n"
          ]
        }
      ]
    },
    {
      "cell_type": "markdown",
      "source": [
        "> Podemos ver, pelo número de imóveis em Musashino Shi e Mitaka Shi, que esses dados não são expressivos em relação ao tamanho de nosso *dataset*. \n",
        "\n",
        "> **Em contrapartida, o número de aluguéis disponíveis em Meguru Ku e Shibuya Ku trazem mais segurança em relação a representatividade do nosso conjunto de dados. Essas localidades possuem altos valores de aluguel, com preço de 9619.67 e 9590.39 dólares, respectivamente.**\n",
        "\n",
        "<center><img alt=\"like\" width=\"30%\" src=\"https://raw.githubusercontent.com/Pedro1-21GW/sigmoidal/main/like.png\"></center>"
      ],
      "metadata": {
        "id": "Em0MtejDz7so"
      }
    },
    {
      "cell_type": "markdown",
      "source": [
        "#### Importante questionar...\n",
        "> Contudo, é possível que, após algumas pesquisas sobre os \"bairros mais caros de Tokyo\"  você tenha a seguinte dúvida: \"Quando pesquiso em sites de busca sobre localidades caras em Tokyo, os nomes contemplados em sua análise não aparecem. O que pode estar acontecendo? Sua análise está de fato correta?\".\n",
        "\n",
        "\n",
        "\n",
        "\n",
        "<center><img alt=\"desconfiado\" width=\"50%\" src=\"https://raw.githubusercontent.com/Pedro1-21GW/sigmoidal/main/desconfiado1.png\"></center>\n",
        "\n",
        "\n",
        "> Vale mencionar que estamos aqui limitados pelo *dataset* disponibilizado pelo portal [Inside AirBnb](http://insideairbnb.com/get-the-data.html), dessa forma é razoável afirmar que **alguns bairros luxosos de Tokyo não foram comtemplados aqui**, como por exemplo Aoyama, que não possui imóveis disponíveis para aluguel em banco de dados, como verificado nas duas últimas linhas da célula de código acima.\n",
        "\n",
        "> Além disso, existe um fator cultural que deve ser levado em consideração: o conservadorismo da sociedade japonesa. Diante do grande aumento de visitantes estrangeiros no país, desde 2013, o crescimento exponencial de ofertas de aluguel para residências privadas incomodou muitos moradores nativos e empresas do setor hoteleiro. Tal fricção, acabou se desdobrando em ações regulatórias, compondo a \"Lei Minpaku\", que apesar de oferecer mais protocolos de segurança para os viajantes, acabou reduzindo o número de pessoas dispostas a oferecer o aluguel via Airbnb. Portanto, se configura como causa provável para ausência de algumas regiões de Tokyo em nosso conjunto de dados."
      ],
      "metadata": {
        "id": "yZmfmIXt3hpv"
      }
    },
    {
      "cell_type": "markdown",
      "source": [
        "Agora vamos em busca de uma análise mais visual, plotando um *heatmap* dos preços dos imóveis em função de suas coordenadas de **latitude** e **longitude**.\n",
        "\n",
        "<center><img alt=\"latitude e longitude\" width=\"50%\" src=\"https://raw.githubusercontent.com/Pedro1-21GW/sigmoidal/main/latitude_longitude.png\"></center>\n",
        "\n",
        "OBS: Se você acha que essa análise não faz sentido por acreditar que a terra é plana, por favor [clique aqui](https://www.youtube.com/watch?v=T4WjyTV98lg)."
      ],
      "metadata": {
        "id": "uur2t3FD9rKg"
      }
    },
    {
      "cell_type": "markdown",
      "source": [
        "#### Mapa de calor dos preços dos imóveis em função de latitude e longitude "
      ],
      "metadata": {
        "id": "Rc7a-OBr-OvS"
      }
    },
    {
      "cell_type": "code",
      "source": [
        "# plotar os imóveis pela latitude e longitude\n",
        "df_clean.plot.scatter(x = 'longitude', y = 'latitude', alpha = 0.3, s=8,\n",
        "                      c = df_clean.price, colormap ='jet',figsize=(12,8));"
      ],
      "metadata": {
        "colab": {
          "base_uri": "https://localhost:8080/",
          "height": 472
        },
        "id": "cApaVhre9guU",
        "outputId": "a7a2ac74-bf33-4da7-b59d-48b8a9c1cc6e"
      },
      "execution_count": null,
      "outputs": [
        {
          "output_type": "display_data",
          "data": {
            "image/png": "[encoded data removed]",
            "text/plain": [
              "<Figure size 864x576 with 2 Axes>"
            ]
          },
          "metadata": {
            "needs_background": "light"
          }
        }
      ]
    },
    {
      "cell_type": "markdown",
      "source": [
        "> Vamos investigar mais a fundo a variável `price`, assim com o `boxplot` abaixo poderemos concluir a percentagem de entradas com preço abaixo do limiar superior calculado  acima com base no IQR, dando assim uma melhor ideia sobre a representação do nosso *dataset* no gráfico acima.\n"
      ],
      "metadata": {
        "id": "ZodETBg995_A"
      }
    },
    {
      "cell_type": "code",
      "source": [
        "df.boxplot(column = 'price', vert = False, figsize=(15,3));\n",
        "num_imoveis = df[df.price < sup_price].shape[0]\n",
        "print(f\"Temos {num_imoveis} entradas com valor abaixo de {sup_price}.\")\n",
        "print(f\"Percentualmente, valendo {num_imoveis/df.shape[0]*100}%\")"
      ],
      "metadata": {
        "colab": {
          "base_uri": "https://localhost:8080/",
          "height": 260
        },
        "id": "AAkyEC2O8MEG",
        "outputId": "639a6d3b-db3c-4579-be60-b4f43de17ed3"
      },
      "execution_count": 51,
      "outputs": [
        {
          "output_type": "stream",
          "name": "stdout",
          "text": [
            "Temos 9806 entradas com valor abaixo de 24553.25.\n",
            "Percentualmente, valendo 91.90253045923149%\n"
          ]
        },
        {
          "output_type": "display_data",
          "data": {
            "image/png": "[encoded data removed]",
            "text/plain": [
              "<Figure size 1080x216 with 1 Axes>"
            ]
          },
          "metadata": {
            "needs_background": "light"
          }
        }
      ]
    },
    {
      "cell_type": "markdown",
      "source": [
        "Nota-se uma excelente representatividade para o gráfico plotado, comtemplando aproximadamente 92% do nosso conjunto de dados."
      ],
      "metadata": {
        "id": "sZ90t4pmofFC"
      }
    },
    {
      "cell_type": "markdown",
      "metadata": {
        "id": "vTneAMRUYvr1"
      },
      "source": [
        "### **Qual é a média e relevância percentual dos valores para o mínimo de noites para aluguel (minimum_nights)?**"
      ]
    },
    {
      "cell_type": "markdown",
      "source": [
        "Vamos extrair a relevância percentual dos valores para coluna `minimum_nights`. "
      ],
      "metadata": {
        "id": "wgs991OSs8XK"
      }
    },
    {
      "cell_type": "code",
      "source": [
        "(df_clean.minimum_nights.value_counts().sort_values(ascending=False))/df_clean.shape[0]"
      ],
      "metadata": {
        "colab": {
          "base_uri": "https://localhost:8080/"
        },
        "id": "9bu19TEr-PQN",
        "outputId": "b3097d92-0ce9-4120-8377-aaea50ac25cd"
      },
      "execution_count": null,
      "outputs": [
        {
          "output_type": "execute_result",
          "data": {
            "text/plain": [
              "1    0.650644\n",
              "2    0.291398\n",
              "3    0.057958\n",
              "Name: minimum_nights, dtype: float64"
            ]
          },
          "metadata": {},
          "execution_count": 33
        }
      ]
    },
    {
      "cell_type": "markdown",
      "source": [
        "Podemos também extrair do nosso *dataset* a média do número mínimo de noites para reserva, através da inspeção da média da coluna `minimum_nights`."
      ],
      "metadata": {
        "id": "db2WKDZB0Q_a"
      }
    },
    {
      "cell_type": "code",
      "metadata": {
        "id": "_VzNhrEgY82N",
        "colab": {
          "base_uri": "https://localhost:8080/"
        },
        "outputId": "d7a6f703-ebdc-42ce-cdb4-589665f86ba1"
      },
      "source": [
        "# ver a média da coluna `minimum_nights`\n",
        "df_clean.minimum_nights.mean()"
      ],
      "execution_count": null,
      "outputs": [
        {
          "output_type": "execute_result",
          "data": {
            "text/plain": [
              "1.407313707451702"
            ]
          },
          "metadata": {},
          "execution_count": 34
        }
      ]
    },
    {
      "cell_type": "markdown",
      "source": [
        "Vemos que a média de noites mínimas calculada é de aproximadamente 1.41, o que pode induzir à conclusão de que os anfritiões buscam alugar um período intermediário entre um e dois dias. Isso pode ser reafirmado pela relevância percentual acima, em que o **aluguel de 1 e 2 dias são os mais relevantes**, com 65.06% e 29.14%, respectivamente."
      ],
      "metadata": {
        "id": "whz9idOfqLC0"
      }
    },
    {
      "cell_type": "markdown",
      "metadata": {
        "id": "GkvAg623RjoR"
      },
      "source": [
        "## Conclusões\n",
        "\n",
        "<center><img alt=\"Tokyo\" width=\"20%\" src=\"https://raw.githubusercontent.com/Pedro1-21GW/sigmoidal/main/bandeira_chegada.png\"></center>\n"
      ]
    },
    {
      "cell_type": "markdown",
      "metadata": {
        "id": "rbZ3Hsy9Ypw8"
      },
      "source": [
        "> Foi possível realizar uma análise superficial com base em um *dataset* resumido, fornecido pelo portal do Airbnb. Ainda assim, identificamos uma série de informações e *insights* interessantes sobre aluguéis de imóveis em Tokyo.\n",
        "\n",
        "> Vale mencionar que identificamos a presença de *outliers*, os famosos \"pontos fora da curva\", que podem distorcer conclusões e informações estatísticas. Logo, foi empregada uma técnica de tratamento desses dados para trazer maior confiabilidade à nossa análise.\n",
        "\n",
        "> Futuramente, em uma próxima análise exploratória, buscarei utilizar o *dataset* completo, com 106 atributos, para obtenção de conclusões e *insights* com embasamento ainda mais aprofundado."
      ]
    }
  ]
}